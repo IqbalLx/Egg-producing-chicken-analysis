{
  "nbformat": 4,
  "nbformat_minor": 0,
  "metadata": {
    "colab": {
      "name": "Egg Producing Chicken - data consistency",
      "provenance": [],
      "collapsed_sections": []
    },
    "kernelspec": {
      "name": "python3",
      "display_name": "Python 3"
    }
  },
  "cells": [
    {
      "cell_type": "markdown",
      "metadata": {
        "id": "rtgBjs4W1TjI",
        "colab_type": "text"
      },
      "source": [
        "# Preparing the Dataset"
      ]
    },
    {
      "cell_type": "markdown",
      "metadata": {
        "id": "F0VlIyyV3eFG",
        "colab_type": "text"
      },
      "source": [
        "This chicken farm dataset is retrive from kaggle"
      ]
    },
    {
      "cell_type": "code",
      "metadata": {
        "id": "7rF7snFa73Jk",
        "colab_type": "code",
        "colab": {}
      },
      "source": [
        "!pip install -q kaggle"
      ],
      "execution_count": 0,
      "outputs": []
    },
    {
      "cell_type": "code",
      "metadata": {
        "id": "ImoQfTB08q_s",
        "colab_type": "code",
        "colab": {}
      },
      "source": [
        "!mkdir ~/.kaggle"
      ],
      "execution_count": 0,
      "outputs": []
    },
    {
      "cell_type": "code",
      "metadata": {
        "id": "R5gO9g3v80gh",
        "colab_type": "code",
        "outputId": "8a83593d-b7cb-4b39-ad60-9f6e216871dc",
        "colab": {
          "resources": {
            "http://localhost:8080/nbextensions/google.colab/files.js": {
              "data": "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",
              "ok": true,
              "headers": [
                [
                  "content-type",
                  "application/javascript"
                ]
              ],
              "status": 200,
              "status_text": "OK"
            }
          },
          "base_uri": "https://localhost:8080/",
          "height": 80
        }
      },
      "source": [
        "from google.colab import files\n",
        "output = files.upload() #kaggle.json"
      ],
      "execution_count": 3,
      "outputs": [
        {
          "output_type": "display_data",
          "data": {
            "text/html": [
              "\n",
              "     <input type=\"file\" id=\"files-0401d654-61a5-436b-b786-5c2e93eed79d\" name=\"files[]\" multiple disabled />\n",
              "     <output id=\"result-0401d654-61a5-436b-b786-5c2e93eed79d\">\n",
              "      Upload widget is only available when the cell has been executed in the\n",
              "      current browser session. Please rerun this cell to enable.\n",
              "      </output>\n",
              "      <script src=\"/nbextensions/google.colab/files.js\"></script> "
            ],
            "text/plain": [
              "<IPython.core.display.HTML object>"
            ]
          },
          "metadata": {
            "tags": []
          }
        },
        {
          "output_type": "stream",
          "text": [
            "Saving kaggle.json to kaggle.json\n"
          ],
          "name": "stdout"
        }
      ]
    },
    {
      "cell_type": "code",
      "metadata": {
        "id": "POmOFa0U9Qhj",
        "colab_type": "code",
        "colab": {}
      },
      "source": [
        "!cp kaggle.json ~/.kaggle\n",
        "!chmod 600 ~/.kaggle/kaggle.json"
      ],
      "execution_count": 0,
      "outputs": []
    },
    {
      "cell_type": "code",
      "metadata": {
        "id": "2H82IGgjLkYw",
        "colab_type": "code",
        "outputId": "a5f2fe45-ef38-48e4-c97a-d82ec1801032",
        "colab": {
          "base_uri": "https://localhost:8080/",
          "height": 72
        }
      },
      "source": [
        "!kaggle datasets download -d phuzoman/egg-producing-chickens"
      ],
      "execution_count": 5,
      "outputs": [
        {
          "output_type": "stream",
          "text": [
            "Downloading egg-producing-chickens.zip to /content\n",
            "\r  0% 0.00/5.90k [00:00<?, ?B/s]\n",
            "\r100% 5.90k/5.90k [00:00<00:00, 10.5MB/s]\n"
          ],
          "name": "stdout"
        }
      ]
    },
    {
      "cell_type": "code",
      "metadata": {
        "id": "8k5raKul9c5Z",
        "colab_type": "code",
        "colab": {}
      },
      "source": [
        "import zipfile\n",
        "\n",
        "zip_ref = zipfile.ZipFile('egg-producing-chickens.zip', 'r')\n",
        "zip_ref.extractall()\n",
        "zip_ref.close()"
      ],
      "execution_count": 0,
      "outputs": []
    },
    {
      "cell_type": "code",
      "metadata": {
        "id": "3ym7sZB897A4",
        "colab_type": "code",
        "colab": {
          "base_uri": "https://localhost:8080/",
          "height": 73
        },
        "outputId": "d5004096-b93f-4eca-b82a-9142fe92a6d2"
      },
      "source": [
        "import pandas as pd\n",
        "import numpy as np\n",
        "import matplotlib.pyplot as plt\n",
        "import seaborn as sns"
      ],
      "execution_count": 7,
      "outputs": [
        {
          "output_type": "stream",
          "text": [
            "/usr/local/lib/python3.6/dist-packages/statsmodels/tools/_testing.py:19: FutureWarning: pandas.util.testing is deprecated. Use the functions in the public API at pandas.testing instead.\n",
            "  import pandas.util.testing as tm\n"
          ],
          "name": "stderr"
        }
      ]
    },
    {
      "cell_type": "code",
      "metadata": {
        "id": "1fJ5GkGk-Fto",
        "colab_type": "code",
        "outputId": "6fb63f6e-533f-4116-d7d6-194983e72506",
        "colab": {
          "base_uri": "https://localhost:8080/",
          "height": 383
        }
      },
      "source": [
        "df = pd.read_csv('GallusGallusDomesticus.csv')\n",
        "df.sample(10)"
      ],
      "execution_count": 8,
      "outputs": [
        {
          "output_type": "execute_result",
          "data": {
            "text/html": [
              "<div>\n",
              "<style scoped>\n",
              "    .dataframe tbody tr th:only-of-type {\n",
              "        vertical-align: middle;\n",
              "    }\n",
              "\n",
              "    .dataframe tbody tr th {\n",
              "        vertical-align: top;\n",
              "    }\n",
              "\n",
              "    .dataframe thead th {\n",
              "        text-align: right;\n",
              "    }\n",
              "</style>\n",
              "<table border=\"1\" class=\"dataframe\">\n",
              "  <thead>\n",
              "    <tr style=\"text-align: right;\">\n",
              "      <th></th>\n",
              "      <th>GallusID</th>\n",
              "      <th>GallusBreed</th>\n",
              "      <th>Day</th>\n",
              "      <th>Age</th>\n",
              "      <th>GallusWeight</th>\n",
              "      <th>GallusEggColor</th>\n",
              "      <th>GallusEggWeight</th>\n",
              "      <th>AmountOfFeed</th>\n",
              "      <th>EggsPerDay</th>\n",
              "      <th>GallusCombType</th>\n",
              "      <th>SunLightExposure</th>\n",
              "      <th>GallusClass</th>\n",
              "      <th>GallusLegShanksColor</th>\n",
              "      <th>GallusBeakColor</th>\n",
              "      <th>GallusEarLobesColor</th>\n",
              "      <th>GallusPlumage</th>\n",
              "    </tr>\n",
              "  </thead>\n",
              "  <tbody>\n",
              "    <tr>\n",
              "      <th>460</th>\n",
              "      <td>Marans93</td>\n",
              "      <td>Marans</td>\n",
              "      <td>1</td>\n",
              "      <td>939</td>\n",
              "      <td>1600</td>\n",
              "      <td>Brown</td>\n",
              "      <td>40.03</td>\n",
              "      <td>117</td>\n",
              "      <td>1</td>\n",
              "      <td>Single</td>\n",
              "      <td>8</td>\n",
              "      <td>Continental</td>\n",
              "      <td>White</td>\n",
              "      <td>White</td>\n",
              "      <td>NaN</td>\n",
              "      <td>Splash</td>\n",
              "    </tr>\n",
              "    <tr>\n",
              "      <th>132</th>\n",
              "      <td>Marans27</td>\n",
              "      <td>Marans</td>\n",
              "      <td>3</td>\n",
              "      <td>179</td>\n",
              "      <td>1580</td>\n",
              "      <td>Brown</td>\n",
              "      <td>36.31</td>\n",
              "      <td>126</td>\n",
              "      <td>1</td>\n",
              "      <td>Single</td>\n",
              "      <td>9</td>\n",
              "      <td>Continental</td>\n",
              "      <td>White</td>\n",
              "      <td>White</td>\n",
              "      <td>NaN</td>\n",
              "      <td>Blue Copper</td>\n",
              "    </tr>\n",
              "    <tr>\n",
              "      <th>804</th>\n",
              "      <td>Marans161</td>\n",
              "      <td>Marans</td>\n",
              "      <td>5</td>\n",
              "      <td>161</td>\n",
              "      <td>1840</td>\n",
              "      <td>Brown</td>\n",
              "      <td>50.72</td>\n",
              "      <td>117</td>\n",
              "      <td>1</td>\n",
              "      <td>Single</td>\n",
              "      <td>7</td>\n",
              "      <td>Continental</td>\n",
              "      <td>White</td>\n",
              "      <td>White</td>\n",
              "      <td>NaN</td>\n",
              "      <td>Blue Copper</td>\n",
              "    </tr>\n",
              "    <tr>\n",
              "      <th>431</th>\n",
              "      <td>Marans87</td>\n",
              "      <td>Marans</td>\n",
              "      <td>2</td>\n",
              "      <td>102</td>\n",
              "      <td>2320</td>\n",
              "      <td>Brown</td>\n",
              "      <td>54.47</td>\n",
              "      <td>107</td>\n",
              "      <td>1</td>\n",
              "      <td>Single</td>\n",
              "      <td>8</td>\n",
              "      <td>Continental</td>\n",
              "      <td>White</td>\n",
              "      <td>White</td>\n",
              "      <td>NaN</td>\n",
              "      <td>Splash Copper</td>\n",
              "    </tr>\n",
              "    <tr>\n",
              "      <th>57</th>\n",
              "      <td>Marans12</td>\n",
              "      <td>Marans</td>\n",
              "      <td>3</td>\n",
              "      <td>725</td>\n",
              "      <td>2400</td>\n",
              "      <td>Brown</td>\n",
              "      <td>30.34</td>\n",
              "      <td>105</td>\n",
              "      <td>1</td>\n",
              "      <td>Single</td>\n",
              "      <td>8</td>\n",
              "      <td>Continental</td>\n",
              "      <td>White</td>\n",
              "      <td>White</td>\n",
              "      <td>NaN</td>\n",
              "      <td>Blue</td>\n",
              "    </tr>\n",
              "    <tr>\n",
              "      <th>910</th>\n",
              "      <td>Ameraucana2</td>\n",
              "      <td>Ameraucana</td>\n",
              "      <td>6</td>\n",
              "      <td>727</td>\n",
              "      <td>2140</td>\n",
              "      <td>Bluish-Green</td>\n",
              "      <td>44.82</td>\n",
              "      <td>117</td>\n",
              "      <td>1</td>\n",
              "      <td>Pea</td>\n",
              "      <td>11</td>\n",
              "      <td>NaN</td>\n",
              "      <td>Slate Black</td>\n",
              "      <td>White</td>\n",
              "      <td>Red</td>\n",
              "      <td>Blue Wheaten</td>\n",
              "    </tr>\n",
              "    <tr>\n",
              "      <th>122</th>\n",
              "      <td>Marans25</td>\n",
              "      <td>Marans</td>\n",
              "      <td>3</td>\n",
              "      <td>425</td>\n",
              "      <td>2410</td>\n",
              "      <td>Brown</td>\n",
              "      <td>45.24</td>\n",
              "      <td>129</td>\n",
              "      <td>1</td>\n",
              "      <td>Single</td>\n",
              "      <td>9</td>\n",
              "      <td>Continental</td>\n",
              "      <td>White</td>\n",
              "      <td>White</td>\n",
              "      <td>NaN</td>\n",
              "      <td>Splash</td>\n",
              "    </tr>\n",
              "    <tr>\n",
              "      <th>90</th>\n",
              "      <td>Marans19</td>\n",
              "      <td>Marans</td>\n",
              "      <td>1</td>\n",
              "      <td>442</td>\n",
              "      <td>1740</td>\n",
              "      <td>Brown</td>\n",
              "      <td>48.75</td>\n",
              "      <td>118</td>\n",
              "      <td>1</td>\n",
              "      <td>Single</td>\n",
              "      <td>7</td>\n",
              "      <td>Continental</td>\n",
              "      <td>White</td>\n",
              "      <td>White</td>\n",
              "      <td>NaN</td>\n",
              "      <td>Splash Copper</td>\n",
              "    </tr>\n",
              "    <tr>\n",
              "      <th>702</th>\n",
              "      <td>Marans141</td>\n",
              "      <td>Marans</td>\n",
              "      <td>3</td>\n",
              "      <td>964</td>\n",
              "      <td>1680</td>\n",
              "      <td>Brown</td>\n",
              "      <td>37.15</td>\n",
              "      <td>128</td>\n",
              "      <td>0</td>\n",
              "      <td>Single</td>\n",
              "      <td>7</td>\n",
              "      <td>Continental</td>\n",
              "      <td>White</td>\n",
              "      <td>White</td>\n",
              "      <td>NaN</td>\n",
              "      <td>Splash</td>\n",
              "    </tr>\n",
              "    <tr>\n",
              "      <th>877</th>\n",
              "      <td>Marans176</td>\n",
              "      <td>Marans</td>\n",
              "      <td>3</td>\n",
              "      <td>858</td>\n",
              "      <td>1530</td>\n",
              "      <td>Brown</td>\n",
              "      <td>54.98</td>\n",
              "      <td>128</td>\n",
              "      <td>1</td>\n",
              "      <td>Single</td>\n",
              "      <td>9</td>\n",
              "      <td>Continental</td>\n",
              "      <td>White</td>\n",
              "      <td>White</td>\n",
              "      <td>NaN</td>\n",
              "      <td>Splash</td>\n",
              "    </tr>\n",
              "  </tbody>\n",
              "</table>\n",
              "</div>"
            ],
            "text/plain": [
              "        GallusID GallusBreed  ...  GallusEarLobesColor  GallusPlumage\n",
              "460     Marans93      Marans  ...                  NaN         Splash\n",
              "132     Marans27      Marans  ...                  NaN    Blue Copper\n",
              "804    Marans161      Marans  ...                  NaN    Blue Copper\n",
              "431     Marans87      Marans  ...                  NaN  Splash Copper\n",
              "57      Marans12      Marans  ...                  NaN           Blue\n",
              "910  Ameraucana2  Ameraucana  ...                  Red   Blue Wheaten\n",
              "122     Marans25      Marans  ...                  NaN         Splash\n",
              "90      Marans19      Marans  ...                  NaN  Splash Copper\n",
              "702    Marans141      Marans  ...                  NaN         Splash\n",
              "877    Marans176      Marans  ...                  NaN         Splash\n",
              "\n",
              "[10 rows x 16 columns]"
            ]
          },
          "metadata": {
            "tags": []
          },
          "execution_count": 8
        }
      ]
    },
    {
      "cell_type": "markdown",
      "metadata": {
        "id": "xzQXouZh2enK",
        "colab_type": "text"
      },
      "source": [
        "# Explore Metadata of the Dataset"
      ]
    },
    {
      "cell_type": "code",
      "metadata": {
        "id": "k2yeKqJsJZp2",
        "colab_type": "code",
        "outputId": "a49d8346-f86d-4a08-f6ec-5d2af9b1e913",
        "colab": {
          "base_uri": "https://localhost:8080/",
          "height": 35
        }
      },
      "source": [
        "df.shape"
      ],
      "execution_count": 9,
      "outputs": [
        {
          "output_type": "execute_result",
          "data": {
            "text/plain": [
              "(1000, 16)"
            ]
          },
          "metadata": {
            "tags": []
          },
          "execution_count": 9
        }
      ]
    },
    {
      "cell_type": "code",
      "metadata": {
        "id": "o_7yjD7Y-Yw-",
        "colab_type": "code",
        "outputId": "16ec5312-22b5-4dc8-e605-d0c24aa7a540",
        "colab": {
          "base_uri": "https://localhost:8080/",
          "height": 435
        }
      },
      "source": [
        "df.info()"
      ],
      "execution_count": 10,
      "outputs": [
        {
          "output_type": "stream",
          "text": [
            "<class 'pandas.core.frame.DataFrame'>\n",
            "RangeIndex: 1000 entries, 0 to 999\n",
            "Data columns (total 16 columns):\n",
            " #   Column                Non-Null Count  Dtype  \n",
            "---  ------                --------------  -----  \n",
            " 0   GallusID              1000 non-null   object \n",
            " 1   GallusBreed           1000 non-null   object \n",
            " 2   Day                   1000 non-null   int64  \n",
            " 3   Age                   1000 non-null   int64  \n",
            " 4   GallusWeight          1000 non-null   int64  \n",
            " 5   GallusEggColor        1000 non-null   object \n",
            " 6   GallusEggWeight       1000 non-null   float64\n",
            " 7   AmountOfFeed          1000 non-null   int64  \n",
            " 8   EggsPerDay            1000 non-null   int64  \n",
            " 9   GallusCombType        1000 non-null   object \n",
            " 10  SunLightExposure      1000 non-null   int64  \n",
            " 11  GallusClass           895 non-null    object \n",
            " 12  GallusLegShanksColor  970 non-null    object \n",
            " 13  GallusBeakColor       970 non-null    object \n",
            " 14  GallusEarLobesColor   85 non-null     object \n",
            " 15  GallusPlumage         1000 non-null   object \n",
            "dtypes: float64(1), int64(6), object(9)\n",
            "memory usage: 125.1+ KB\n"
          ],
          "name": "stdout"
        }
      ]
    },
    {
      "cell_type": "markdown",
      "metadata": {
        "id": "7kRFBG-w1lqy",
        "colab_type": "text"
      },
      "source": [
        "Here we have 7 numerical values, they are Day, Age, GallusWeight, GallusEggWeight, AmountOfFeed, EggsPerDay and SunLightExposure"
      ]
    },
    {
      "cell_type": "code",
      "metadata": {
        "id": "dBDj17Ae-Q1_",
        "colab_type": "code",
        "outputId": "3f058f65-56a4-4d5e-c7ef-de15bca0601a",
        "colab": {
          "base_uri": "https://localhost:8080/",
          "height": 326
        }
      },
      "source": [
        "df.isna().sum()"
      ],
      "execution_count": 11,
      "outputs": [
        {
          "output_type": "execute_result",
          "data": {
            "text/plain": [
              "GallusID                  0\n",
              "GallusBreed               0\n",
              "Day                       0\n",
              "Age                       0\n",
              "GallusWeight              0\n",
              "GallusEggColor            0\n",
              "GallusEggWeight           0\n",
              "AmountOfFeed              0\n",
              "EggsPerDay                0\n",
              "GallusCombType            0\n",
              "SunLightExposure          0\n",
              "GallusClass             105\n",
              "GallusLegShanksColor     30\n",
              "GallusBeakColor          30\n",
              "GallusEarLobesColor     915\n",
              "GallusPlumage             0\n",
              "dtype: int64"
            ]
          },
          "metadata": {
            "tags": []
          },
          "execution_count": 11
        }
      ]
    },
    {
      "cell_type": "markdown",
      "metadata": {
        "id": "h-tBjGEy2lzI",
        "colab_type": "text"
      },
      "source": [
        "All NaN is on categorical columns. As we see, less than 10% of GallusEarLobesColor is NaN. We can reject this column because of not sufficient enough to analyze compare to the percentage of other categorical columns. Those three remaining categorical columns can be neglected for a moment, but we will consider them in the next discussion (if possible)."
      ]
    },
    {
      "cell_type": "code",
      "metadata": {
        "id": "B_sbsWA6KJXG",
        "colab_type": "code",
        "outputId": "037e621b-56b0-420b-b374-c24299a6b11a",
        "colab": {
          "base_uri": "https://localhost:8080/",
          "height": 126
        }
      },
      "source": [
        "df.columns"
      ],
      "execution_count": 13,
      "outputs": [
        {
          "output_type": "execute_result",
          "data": {
            "text/plain": [
              "Index(['GallusID', 'GallusBreed', 'Day', 'Age', 'GallusWeight',\n",
              "       'GallusEggColor', 'GallusEggWeight', 'AmountOfFeed', 'EggsPerDay',\n",
              "       'GallusCombType', 'SunLightExposure', 'GallusClass',\n",
              "       'GallusLegShanksColor', 'GallusBeakColor', 'GallusEarLobesColor',\n",
              "       'GallusPlumage'],\n",
              "      dtype='object')"
            ]
          },
          "metadata": {
            "tags": []
          },
          "execution_count": 13
        }
      ]
    },
    {
      "cell_type": "markdown",
      "metadata": {
        "id": "IkXdU2_bMvfY",
        "colab_type": "text"
      },
      "source": [
        "### Columns Info\n",
        "1.   GallusBreed - breed of chicken such as ‘Buff Orpington chicken’\n",
        "2.   Day - an integer indicating the day on which an observation was made\n",
        "3.   Age - age of the chicken in weeks\n",
        "4. GallusWeight - weight of the chicken in grams\n",
        "5. GallusEggColor - color of the eggs\n",
        "6. GallusEggWeight - weight of the eggs in grams\n",
        "7. AmountOfFeed - amount of feed in grams the chicken consumed per day\n",
        "8. EggsPerDay - number of eggs a chicken laid on a particular day\n",
        "9. GallusCombType - comb type of a particular chicken\n",
        "10. SunLightExposure - number of hours a chicken is exposed to natural light (sunlight) in a day\n",
        "11. GallusClass - chicken classes as classified by international Poultry 12. associations\n",
        "12. GallusLegShanksColor - color of the legs/feet and shanks on them\n",
        "13. GallusBeakColor - color of the chicken’s beak\n",
        "14. GallusEarLobesColor - color of the chicken earlobes\n",
        "15. GallusPlumage - color of the feathers\n"
      ]
    },
    {
      "cell_type": "markdown",
      "metadata": {
        "id": "75HXWZo-2eoN",
        "colab_type": "text"
      },
      "source": [
        "# Data Preprocessing"
      ]
    },
    {
      "cell_type": "code",
      "metadata": {
        "id": "hn9nOKl7SbKL",
        "colab_type": "code",
        "outputId": "e7aaa452-9e99-42e8-9be0-8577579f1392",
        "colab": {
          "base_uri": "https://localhost:8080/",
          "height": 540
        }
      },
      "source": [
        "df.tail(15)"
      ],
      "execution_count": 14,
      "outputs": [
        {
          "output_type": "execute_result",
          "data": {
            "text/html": [
              "<div>\n",
              "<style scoped>\n",
              "    .dataframe tbody tr th:only-of-type {\n",
              "        vertical-align: middle;\n",
              "    }\n",
              "\n",
              "    .dataframe tbody tr th {\n",
              "        vertical-align: top;\n",
              "    }\n",
              "\n",
              "    .dataframe thead th {\n",
              "        text-align: right;\n",
              "    }\n",
              "</style>\n",
              "<table border=\"1\" class=\"dataframe\">\n",
              "  <thead>\n",
              "    <tr style=\"text-align: right;\">\n",
              "      <th></th>\n",
              "      <th>GallusID</th>\n",
              "      <th>GallusBreed</th>\n",
              "      <th>Day</th>\n",
              "      <th>Age</th>\n",
              "      <th>GallusWeight</th>\n",
              "      <th>GallusEggColor</th>\n",
              "      <th>GallusEggWeight</th>\n",
              "      <th>AmountOfFeed</th>\n",
              "      <th>EggsPerDay</th>\n",
              "      <th>GallusCombType</th>\n",
              "      <th>SunLightExposure</th>\n",
              "      <th>GallusClass</th>\n",
              "      <th>GallusLegShanksColor</th>\n",
              "      <th>GallusBeakColor</th>\n",
              "      <th>GallusEarLobesColor</th>\n",
              "      <th>GallusPlumage</th>\n",
              "    </tr>\n",
              "  </thead>\n",
              "  <tbody>\n",
              "    <tr>\n",
              "      <th>985</th>\n",
              "      <td>Ameraucana10</td>\n",
              "      <td>Ameraucana</td>\n",
              "      <td>1</td>\n",
              "      <td>901</td>\n",
              "      <td>2100</td>\n",
              "      <td>Light Blue</td>\n",
              "      <td>52.24</td>\n",
              "      <td>109</td>\n",
              "      <td>1</td>\n",
              "      <td>Pea</td>\n",
              "      <td>7</td>\n",
              "      <td>NaN</td>\n",
              "      <td>Slate Blue</td>\n",
              "      <td>White</td>\n",
              "      <td>Red</td>\n",
              "      <td>Buff</td>\n",
              "    </tr>\n",
              "    <tr>\n",
              "      <th>986</th>\n",
              "      <td>Ameraucana10</td>\n",
              "      <td>Ameraucana</td>\n",
              "      <td>2</td>\n",
              "      <td>901</td>\n",
              "      <td>2100</td>\n",
              "      <td>Light Blue</td>\n",
              "      <td>52.24</td>\n",
              "      <td>109</td>\n",
              "      <td>1</td>\n",
              "      <td>Pea</td>\n",
              "      <td>7</td>\n",
              "      <td>NaN</td>\n",
              "      <td>Slate Blue</td>\n",
              "      <td>White</td>\n",
              "      <td>Red</td>\n",
              "      <td>Buff</td>\n",
              "    </tr>\n",
              "    <tr>\n",
              "      <th>987</th>\n",
              "      <td>Ameraucana10</td>\n",
              "      <td>Ameraucana</td>\n",
              "      <td>3</td>\n",
              "      <td>901</td>\n",
              "      <td>2100</td>\n",
              "      <td>Light Blue</td>\n",
              "      <td>52.24</td>\n",
              "      <td>109</td>\n",
              "      <td>1</td>\n",
              "      <td>Pea</td>\n",
              "      <td>7</td>\n",
              "      <td>NaN</td>\n",
              "      <td>Slate Blue</td>\n",
              "      <td>White</td>\n",
              "      <td>Red</td>\n",
              "      <td>Buff</td>\n",
              "    </tr>\n",
              "    <tr>\n",
              "      <th>988</th>\n",
              "      <td>Ameraucana10</td>\n",
              "      <td>Ameraucana</td>\n",
              "      <td>4</td>\n",
              "      <td>901</td>\n",
              "      <td>2100</td>\n",
              "      <td>Light Blue</td>\n",
              "      <td>52.24</td>\n",
              "      <td>109</td>\n",
              "      <td>1</td>\n",
              "      <td>Pea</td>\n",
              "      <td>7</td>\n",
              "      <td>NaN</td>\n",
              "      <td>Slate Blue</td>\n",
              "      <td>White</td>\n",
              "      <td>Red</td>\n",
              "      <td>Buff</td>\n",
              "    </tr>\n",
              "    <tr>\n",
              "      <th>989</th>\n",
              "      <td>Ameraucana10</td>\n",
              "      <td>Ameraucana</td>\n",
              "      <td>5</td>\n",
              "      <td>901</td>\n",
              "      <td>2100</td>\n",
              "      <td>Light Blue</td>\n",
              "      <td>52.24</td>\n",
              "      <td>109</td>\n",
              "      <td>1</td>\n",
              "      <td>Pea</td>\n",
              "      <td>7</td>\n",
              "      <td>NaN</td>\n",
              "      <td>Slate Blue</td>\n",
              "      <td>White</td>\n",
              "      <td>Red</td>\n",
              "      <td>Buff</td>\n",
              "    </tr>\n",
              "    <tr>\n",
              "      <th>990</th>\n",
              "      <td>Ameraucana10</td>\n",
              "      <td>Ameraucana</td>\n",
              "      <td>6</td>\n",
              "      <td>901</td>\n",
              "      <td>2100</td>\n",
              "      <td>Light Blue</td>\n",
              "      <td>52.24</td>\n",
              "      <td>109</td>\n",
              "      <td>1</td>\n",
              "      <td>Pea</td>\n",
              "      <td>7</td>\n",
              "      <td>NaN</td>\n",
              "      <td>Slate Blue</td>\n",
              "      <td>White</td>\n",
              "      <td>Red</td>\n",
              "      <td>Buff</td>\n",
              "    </tr>\n",
              "    <tr>\n",
              "      <th>991</th>\n",
              "      <td>Ameraucana10</td>\n",
              "      <td>Ameraucana</td>\n",
              "      <td>7</td>\n",
              "      <td>901</td>\n",
              "      <td>2100</td>\n",
              "      <td>Light Blue</td>\n",
              "      <td>52.24</td>\n",
              "      <td>109</td>\n",
              "      <td>1</td>\n",
              "      <td>Pea</td>\n",
              "      <td>7</td>\n",
              "      <td>NaN</td>\n",
              "      <td>Slate Blue</td>\n",
              "      <td>White</td>\n",
              "      <td>Red</td>\n",
              "      <td>Buff</td>\n",
              "    </tr>\n",
              "    <tr>\n",
              "      <th>992</th>\n",
              "      <td>Ameraucana10</td>\n",
              "      <td>Ameraucana</td>\n",
              "      <td>8</td>\n",
              "      <td>901</td>\n",
              "      <td>2100</td>\n",
              "      <td>Light Blue</td>\n",
              "      <td>52.24</td>\n",
              "      <td>109</td>\n",
              "      <td>1</td>\n",
              "      <td>Pea</td>\n",
              "      <td>7</td>\n",
              "      <td>NaN</td>\n",
              "      <td>Slate Blue</td>\n",
              "      <td>White</td>\n",
              "      <td>Red</td>\n",
              "      <td>Buff</td>\n",
              "    </tr>\n",
              "    <tr>\n",
              "      <th>993</th>\n",
              "      <td>Ameraucana10</td>\n",
              "      <td>Ameraucana</td>\n",
              "      <td>9</td>\n",
              "      <td>901</td>\n",
              "      <td>2100</td>\n",
              "      <td>Light Blue</td>\n",
              "      <td>52.24</td>\n",
              "      <td>109</td>\n",
              "      <td>1</td>\n",
              "      <td>Pea</td>\n",
              "      <td>7</td>\n",
              "      <td>NaN</td>\n",
              "      <td>Slate Blue</td>\n",
              "      <td>White</td>\n",
              "      <td>Red</td>\n",
              "      <td>Buff</td>\n",
              "    </tr>\n",
              "    <tr>\n",
              "      <th>994</th>\n",
              "      <td>Ameraucana10</td>\n",
              "      <td>Ameraucana</td>\n",
              "      <td>10</td>\n",
              "      <td>901</td>\n",
              "      <td>2100</td>\n",
              "      <td>Light Blue</td>\n",
              "      <td>52.24</td>\n",
              "      <td>109</td>\n",
              "      <td>1</td>\n",
              "      <td>Pea</td>\n",
              "      <td>7</td>\n",
              "      <td>NaN</td>\n",
              "      <td>Slate Blue</td>\n",
              "      <td>White</td>\n",
              "      <td>Red</td>\n",
              "      <td>Buff</td>\n",
              "    </tr>\n",
              "    <tr>\n",
              "      <th>995</th>\n",
              "      <td>Ameraucana11</td>\n",
              "      <td>Ameraucana</td>\n",
              "      <td>1</td>\n",
              "      <td>384</td>\n",
              "      <td>1800</td>\n",
              "      <td>Bluish-Green</td>\n",
              "      <td>53.10</td>\n",
              "      <td>110</td>\n",
              "      <td>1</td>\n",
              "      <td>Pea</td>\n",
              "      <td>7</td>\n",
              "      <td>NaN</td>\n",
              "      <td>Slate Blue</td>\n",
              "      <td>Brown</td>\n",
              "      <td>White</td>\n",
              "      <td>Blue Wheaten</td>\n",
              "    </tr>\n",
              "    <tr>\n",
              "      <th>996</th>\n",
              "      <td>Ameraucana11</td>\n",
              "      <td>Ameraucana</td>\n",
              "      <td>2</td>\n",
              "      <td>384</td>\n",
              "      <td>1800</td>\n",
              "      <td>Bluish-Green</td>\n",
              "      <td>53.10</td>\n",
              "      <td>110</td>\n",
              "      <td>1</td>\n",
              "      <td>Pea</td>\n",
              "      <td>7</td>\n",
              "      <td>NaN</td>\n",
              "      <td>Slate Blue</td>\n",
              "      <td>Brown</td>\n",
              "      <td>White</td>\n",
              "      <td>Blue Wheaten</td>\n",
              "    </tr>\n",
              "    <tr>\n",
              "      <th>997</th>\n",
              "      <td>Ameraucana11</td>\n",
              "      <td>Ameraucana</td>\n",
              "      <td>3</td>\n",
              "      <td>384</td>\n",
              "      <td>1800</td>\n",
              "      <td>Bluish-Green</td>\n",
              "      <td>53.10</td>\n",
              "      <td>110</td>\n",
              "      <td>1</td>\n",
              "      <td>Pea</td>\n",
              "      <td>7</td>\n",
              "      <td>NaN</td>\n",
              "      <td>Slate Blue</td>\n",
              "      <td>Brown</td>\n",
              "      <td>White</td>\n",
              "      <td>Blue Wheaten</td>\n",
              "    </tr>\n",
              "    <tr>\n",
              "      <th>998</th>\n",
              "      <td>Ameraucana11</td>\n",
              "      <td>Ameraucana</td>\n",
              "      <td>4</td>\n",
              "      <td>384</td>\n",
              "      <td>1800</td>\n",
              "      <td>Bluish-Green</td>\n",
              "      <td>53.10</td>\n",
              "      <td>110</td>\n",
              "      <td>1</td>\n",
              "      <td>Pea</td>\n",
              "      <td>7</td>\n",
              "      <td>NaN</td>\n",
              "      <td>Slate Blue</td>\n",
              "      <td>Brown</td>\n",
              "      <td>White</td>\n",
              "      <td>Blue Wheaten</td>\n",
              "    </tr>\n",
              "    <tr>\n",
              "      <th>999</th>\n",
              "      <td>Ameraucana11</td>\n",
              "      <td>Ameraucana</td>\n",
              "      <td>5</td>\n",
              "      <td>384</td>\n",
              "      <td>1800</td>\n",
              "      <td>Bluish-Green</td>\n",
              "      <td>53.10</td>\n",
              "      <td>110</td>\n",
              "      <td>1</td>\n",
              "      <td>Pea</td>\n",
              "      <td>7</td>\n",
              "      <td>NaN</td>\n",
              "      <td>Slate Blue</td>\n",
              "      <td>Brown</td>\n",
              "      <td>White</td>\n",
              "      <td>Blue Wheaten</td>\n",
              "    </tr>\n",
              "  </tbody>\n",
              "</table>\n",
              "</div>"
            ],
            "text/plain": [
              "         GallusID GallusBreed  ...  GallusEarLobesColor  GallusPlumage\n",
              "985  Ameraucana10  Ameraucana  ...                  Red           Buff\n",
              "986  Ameraucana10  Ameraucana  ...                  Red           Buff\n",
              "987  Ameraucana10  Ameraucana  ...                  Red           Buff\n",
              "988  Ameraucana10  Ameraucana  ...                  Red           Buff\n",
              "989  Ameraucana10  Ameraucana  ...                  Red           Buff\n",
              "990  Ameraucana10  Ameraucana  ...                  Red           Buff\n",
              "991  Ameraucana10  Ameraucana  ...                  Red           Buff\n",
              "992  Ameraucana10  Ameraucana  ...                  Red           Buff\n",
              "993  Ameraucana10  Ameraucana  ...                  Red           Buff\n",
              "994  Ameraucana10  Ameraucana  ...                  Red           Buff\n",
              "995  Ameraucana11  Ameraucana  ...                White   Blue Wheaten\n",
              "996  Ameraucana11  Ameraucana  ...                White   Blue Wheaten\n",
              "997  Ameraucana11  Ameraucana  ...                White   Blue Wheaten\n",
              "998  Ameraucana11  Ameraucana  ...                White   Blue Wheaten\n",
              "999  Ameraucana11  Ameraucana  ...                White   Blue Wheaten\n",
              "\n",
              "[15 rows x 16 columns]"
            ]
          },
          "metadata": {
            "tags": []
          },
          "execution_count": 14
        }
      ]
    },
    {
      "cell_type": "markdown",
      "metadata": {
        "id": "q6_nzKtTBY-m",
        "colab_type": "text"
      },
      "source": [
        "As we can see in the above table, for the same GallusID, we can easily notice the erroneous in column \"Age\". From the definition, the unit of \"Age\" is in a week. If we look the column \"Day\" which is the measurement day, there are the days of measurement that more than a week. As we know one week is equal to seven days, the age of chicken must be increased at least by one week.\n",
        "\n",
        "By using this insight, we have to cut off some days of measurement. Because the minimum of number of available measurement in the data is five days, the measurement after fifth day should be neglected to make sure we still have the correct age for the chicken."
      ]
    },
    {
      "cell_type": "code",
      "metadata": {
        "id": "Br4Owm3LTjAY",
        "colab_type": "code",
        "outputId": "670a218a-e732-4c39-db20-f1da92eb06b0",
        "colab": {
          "base_uri": "https://localhost:8080/",
          "height": 707
        }
      },
      "source": [
        "colOfInterest = [\"GallusID\", \"GallusBreed\", \"Day\", \"GallusEggColor\", \n",
        "                 \"GallusCombType\", \"GallusPlumage\"]\n",
        "#uniqueItem = [df.loc[:, (col)].unique() for col in colOfInterest]\n",
        "#print(\"GallusBreed:\", df.loc[:, ('GallusBreed')].unique())\n",
        "#print(\"Day of Measurement:\", df.loc[:, ('Day')].unique())\n",
        "\n",
        "for col in colOfInterest:\n",
        "  print(\"{:s}\".format(col), df.loc[:, (col)].unique())"
      ],
      "execution_count": 15,
      "outputs": [
        {
          "output_type": "stream",
          "text": [
            "GallusID ['Marans1' 'Marans2' 'Marans3' 'Marans4' 'Marans5' 'Marans6' 'Marans7'\n",
            " 'Marans8' 'Marans9' 'Marans10' 'Marans11' 'Marans12' 'Marans13'\n",
            " 'Marans14' 'Marans15' 'Marans16' 'Marans17' 'Marans18' 'Marans19'\n",
            " 'Marans20' 'Marans21' 'Marans22' 'Marans23' 'Marans24' 'Marans25'\n",
            " 'Marans26' 'Marans27' 'Marans28' 'Marans29' 'Marans30' 'Marans31'\n",
            " 'Marans32' 'Marans33' 'Marans34' 'Marans35' 'Marans36' 'Marans37'\n",
            " 'Marans38' 'Marans39' 'Marans40' 'Marans41' 'Marans42' 'Marans43'\n",
            " 'Marans44' 'Marans45' 'Marans46' 'Marans47' 'Marans48' 'Marans49'\n",
            " 'Marans50' 'Marans51' 'Marans52' 'Marans53' 'Marans54' 'Marans55'\n",
            " 'Marans56' 'Marans57' 'Marans58' 'Marans59' 'Marans60' 'Marans61'\n",
            " 'Marans62' 'Marans63' 'Marans64' 'Marans65' 'Marans66' 'Marans67'\n",
            " 'Marans68' 'Marans69' 'Marans70' 'Marans71' 'Marans72' 'Marans73'\n",
            " 'Marans74' 'Marans75' 'Marans76' 'Marans77' 'Marans78' 'Marans79'\n",
            " 'Marans80' 'Marans81' 'Marans82' 'Marans83' 'Marans84' 'Marans85'\n",
            " 'Marans86' 'Marans87' 'Marans88' 'Marans89' 'Marans90' 'Marans91'\n",
            " 'Marans92' 'Marans93' 'Marans94' 'Marans95' 'Marans96' 'Marans97'\n",
            " 'Marans98' 'Marans99' 'Marans100' 'Marans101' 'Marans102' 'Marans103'\n",
            " 'Marans104' 'Marans105' 'Marans106' 'Marans107' 'Marans108' 'Marans109'\n",
            " 'Marans110' 'Marans111' 'Marans112' 'Marans113' 'Marans114' 'Marans115'\n",
            " 'Marans116' 'Marans117' 'Marans118' 'Marans119' 'Marans120' 'Marans121'\n",
            " 'Marans122' 'Marans123' 'Marans124' 'Marans125' 'Marans126' 'Marans127'\n",
            " 'Marans128' 'Marans129' 'Marans130' 'Marans131' 'Marans132' 'Marans133'\n",
            " 'Marans134' 'Marans135' 'Marans136' 'Marans137' 'Marans138' 'Marans139'\n",
            " 'Marans140' 'Marans141' 'Marans142' 'Marans143' 'Marans144' 'Marans145'\n",
            " 'Marans146' 'Marans147' 'Marans148' 'Marans149' 'Marans150' 'Marans151'\n",
            " 'Marans152' 'Marans153' 'Marans154' 'Marans155' 'Marans156' 'Marans157'\n",
            " 'Marans158' 'Marans159' 'Marans160' 'Marans161' 'Marans162' 'Marans163'\n",
            " 'Marans164' 'Marans165' 'Marans166' 'Marans167' 'Marans168' 'Marans169'\n",
            " 'Marans170' 'Marans171' 'Marans172' 'Marans173' 'Marans174' 'Marans175'\n",
            " 'Marans176' 'Marans177' 'Marans178' 'Marans179' 'Ameraucana1'\n",
            " 'Ameraucana2' 'Ameraucana3' 'Ameraucana4' 'Ameraucana5' 'Ameraucana6'\n",
            " 'Ameraucana7' 'Ameraucana8' 'Ameraucana9' 'Ameraucana10' 'Ameraucana11']\n",
            "GallusBreed ['Marans' 'Ameraucana']\n",
            "Day [ 1  2  3  4  5  6  7  8  9 10]\n",
            "GallusEggColor ['Brown' 'Light Blue' 'Bluish-Green']\n",
            "GallusCombType ['Single' 'Pea']\n",
            "GallusPlumage ['Blue Copper' 'Blue' 'Splash' 'Splash Copper' 'Black' 'Blue Wheaten'\n",
            " 'White' 'Silver' 'Buff' 'Brown Red']\n"
          ],
          "name": "stdout"
        }
      ]
    },
    {
      "cell_type": "markdown",
      "metadata": {
        "id": "xqcMk7JcZykv",
        "colab_type": "text"
      },
      "source": [
        "We drop the four columns that contain NaN for simplicity.\n"
      ]
    },
    {
      "cell_type": "code",
      "metadata": {
        "id": "zOMxtS1uWXCp",
        "colab_type": "code",
        "outputId": "e77a971a-e13e-4254-a4ca-f2d0d2a4b920",
        "colab": {
          "base_uri": "https://localhost:8080/",
          "height": 363
        }
      },
      "source": [
        "dfFiveDays = df[df.loc[:, (\"Day\")] <= 5].drop([\"GallusClass\",\n",
        "                                               \"GallusLegShanksColor\", \"GallusBeakColor\",\n",
        "                                               \"GallusEarLobesColor\"], axis=1)\n",
        "dfFiveDays.head(10)"
      ],
      "execution_count": 16,
      "outputs": [
        {
          "output_type": "execute_result",
          "data": {
            "text/html": [
              "<div>\n",
              "<style scoped>\n",
              "    .dataframe tbody tr th:only-of-type {\n",
              "        vertical-align: middle;\n",
              "    }\n",
              "\n",
              "    .dataframe tbody tr th {\n",
              "        vertical-align: top;\n",
              "    }\n",
              "\n",
              "    .dataframe thead th {\n",
              "        text-align: right;\n",
              "    }\n",
              "</style>\n",
              "<table border=\"1\" class=\"dataframe\">\n",
              "  <thead>\n",
              "    <tr style=\"text-align: right;\">\n",
              "      <th></th>\n",
              "      <th>GallusID</th>\n",
              "      <th>GallusBreed</th>\n",
              "      <th>Day</th>\n",
              "      <th>Age</th>\n",
              "      <th>GallusWeight</th>\n",
              "      <th>GallusEggColor</th>\n",
              "      <th>GallusEggWeight</th>\n",
              "      <th>AmountOfFeed</th>\n",
              "      <th>EggsPerDay</th>\n",
              "      <th>GallusCombType</th>\n",
              "      <th>SunLightExposure</th>\n",
              "      <th>GallusPlumage</th>\n",
              "    </tr>\n",
              "  </thead>\n",
              "  <tbody>\n",
              "    <tr>\n",
              "      <th>0</th>\n",
              "      <td>Marans1</td>\n",
              "      <td>Marans</td>\n",
              "      <td>1</td>\n",
              "      <td>883</td>\n",
              "      <td>3000</td>\n",
              "      <td>Brown</td>\n",
              "      <td>41.19</td>\n",
              "      <td>114</td>\n",
              "      <td>1</td>\n",
              "      <td>Single</td>\n",
              "      <td>7</td>\n",
              "      <td>Blue Copper</td>\n",
              "    </tr>\n",
              "    <tr>\n",
              "      <th>1</th>\n",
              "      <td>Marans1</td>\n",
              "      <td>Marans</td>\n",
              "      <td>2</td>\n",
              "      <td>883</td>\n",
              "      <td>3000</td>\n",
              "      <td>Brown</td>\n",
              "      <td>41.19</td>\n",
              "      <td>114</td>\n",
              "      <td>1</td>\n",
              "      <td>Single</td>\n",
              "      <td>7</td>\n",
              "      <td>Blue Copper</td>\n",
              "    </tr>\n",
              "    <tr>\n",
              "      <th>2</th>\n",
              "      <td>Marans1</td>\n",
              "      <td>Marans</td>\n",
              "      <td>3</td>\n",
              "      <td>883</td>\n",
              "      <td>3000</td>\n",
              "      <td>Brown</td>\n",
              "      <td>41.19</td>\n",
              "      <td>114</td>\n",
              "      <td>1</td>\n",
              "      <td>Single</td>\n",
              "      <td>7</td>\n",
              "      <td>Blue Copper</td>\n",
              "    </tr>\n",
              "    <tr>\n",
              "      <th>3</th>\n",
              "      <td>Marans1</td>\n",
              "      <td>Marans</td>\n",
              "      <td>4</td>\n",
              "      <td>883</td>\n",
              "      <td>3000</td>\n",
              "      <td>Brown</td>\n",
              "      <td>41.19</td>\n",
              "      <td>114</td>\n",
              "      <td>1</td>\n",
              "      <td>Single</td>\n",
              "      <td>7</td>\n",
              "      <td>Blue Copper</td>\n",
              "    </tr>\n",
              "    <tr>\n",
              "      <th>4</th>\n",
              "      <td>Marans1</td>\n",
              "      <td>Marans</td>\n",
              "      <td>5</td>\n",
              "      <td>883</td>\n",
              "      <td>3000</td>\n",
              "      <td>Brown</td>\n",
              "      <td>41.19</td>\n",
              "      <td>114</td>\n",
              "      <td>1</td>\n",
              "      <td>Single</td>\n",
              "      <td>7</td>\n",
              "      <td>Blue Copper</td>\n",
              "    </tr>\n",
              "    <tr>\n",
              "      <th>5</th>\n",
              "      <td>Marans2</td>\n",
              "      <td>Marans</td>\n",
              "      <td>1</td>\n",
              "      <td>684</td>\n",
              "      <td>1750</td>\n",
              "      <td>Brown</td>\n",
              "      <td>52.91</td>\n",
              "      <td>111</td>\n",
              "      <td>1</td>\n",
              "      <td>Single</td>\n",
              "      <td>9</td>\n",
              "      <td>Blue</td>\n",
              "    </tr>\n",
              "    <tr>\n",
              "      <th>6</th>\n",
              "      <td>Marans2</td>\n",
              "      <td>Marans</td>\n",
              "      <td>2</td>\n",
              "      <td>684</td>\n",
              "      <td>1750</td>\n",
              "      <td>Brown</td>\n",
              "      <td>52.91</td>\n",
              "      <td>111</td>\n",
              "      <td>1</td>\n",
              "      <td>Single</td>\n",
              "      <td>9</td>\n",
              "      <td>Blue</td>\n",
              "    </tr>\n",
              "    <tr>\n",
              "      <th>7</th>\n",
              "      <td>Marans2</td>\n",
              "      <td>Marans</td>\n",
              "      <td>3</td>\n",
              "      <td>684</td>\n",
              "      <td>1750</td>\n",
              "      <td>Brown</td>\n",
              "      <td>52.91</td>\n",
              "      <td>111</td>\n",
              "      <td>1</td>\n",
              "      <td>Single</td>\n",
              "      <td>9</td>\n",
              "      <td>Blue</td>\n",
              "    </tr>\n",
              "    <tr>\n",
              "      <th>8</th>\n",
              "      <td>Marans2</td>\n",
              "      <td>Marans</td>\n",
              "      <td>4</td>\n",
              "      <td>684</td>\n",
              "      <td>1750</td>\n",
              "      <td>Brown</td>\n",
              "      <td>52.91</td>\n",
              "      <td>111</td>\n",
              "      <td>1</td>\n",
              "      <td>Single</td>\n",
              "      <td>9</td>\n",
              "      <td>Blue</td>\n",
              "    </tr>\n",
              "    <tr>\n",
              "      <th>9</th>\n",
              "      <td>Marans2</td>\n",
              "      <td>Marans</td>\n",
              "      <td>5</td>\n",
              "      <td>684</td>\n",
              "      <td>1750</td>\n",
              "      <td>Brown</td>\n",
              "      <td>52.91</td>\n",
              "      <td>111</td>\n",
              "      <td>1</td>\n",
              "      <td>Single</td>\n",
              "      <td>9</td>\n",
              "      <td>Blue</td>\n",
              "    </tr>\n",
              "  </tbody>\n",
              "</table>\n",
              "</div>"
            ],
            "text/plain": [
              "  GallusID GallusBreed  Day  ...  GallusCombType  SunLightExposure GallusPlumage\n",
              "0  Marans1      Marans    1  ...          Single                 7   Blue Copper\n",
              "1  Marans1      Marans    2  ...          Single                 7   Blue Copper\n",
              "2  Marans1      Marans    3  ...          Single                 7   Blue Copper\n",
              "3  Marans1      Marans    4  ...          Single                 7   Blue Copper\n",
              "4  Marans1      Marans    5  ...          Single                 7   Blue Copper\n",
              "5  Marans2      Marans    1  ...          Single                 9          Blue\n",
              "6  Marans2      Marans    2  ...          Single                 9          Blue\n",
              "7  Marans2      Marans    3  ...          Single                 9          Blue\n",
              "8  Marans2      Marans    4  ...          Single                 9          Blue\n",
              "9  Marans2      Marans    5  ...          Single                 9          Blue\n",
              "\n",
              "[10 rows x 12 columns]"
            ]
          },
          "metadata": {
            "tags": []
          },
          "execution_count": 16
        }
      ]
    },
    {
      "cell_type": "code",
      "metadata": {
        "id": "E1AaPuXhhrJ-",
        "colab_type": "code",
        "outputId": "b8bff0fa-f658-4378-fa94-0098261863fe",
        "colab": {
          "base_uri": "https://localhost:8080/",
          "height": 53
        }
      },
      "source": [
        "dfFiveDays.loc[dfFiveDays[\"EggsPerDay\"] == 0, (\"GallusID\")].unique()"
      ],
      "execution_count": 17,
      "outputs": [
        {
          "output_type": "execute_result",
          "data": {
            "text/plain": [
              "array(['Marans8', 'Marans43', 'Marans63', 'Marans112', 'Marans141',\n",
              "       'Marans150', 'Marans172'], dtype=object)"
            ]
          },
          "metadata": {
            "tags": []
          },
          "execution_count": 17
        }
      ]
    },
    {
      "cell_type": "markdown",
      "metadata": {
        "id": "greSVBHAh9yZ",
        "colab_type": "text"
      },
      "source": [
        "Only Marans breedings that have zero eggs per day.\n",
        "\n",
        "Checking all the columns if the have similar data within similar \"GallusID\". "
      ]
    },
    {
      "cell_type": "code",
      "metadata": {
        "id": "0CY61d5Ohi-8",
        "colab_type": "code",
        "outputId": "a73101f9-e404-43cd-f3b1-fa9cbcda0d12",
        "colab": {
          "base_uri": "https://localhost:8080/",
          "height": 35
        }
      },
      "source": [
        "GallusIDUnique = dfFiveDays.loc[:, (\"GallusID\")].unique()\n",
        "\n",
        "np.all(\\\n",
        "  np.array([dfFiveDays.drop([\"Day\"], axis=1)\\\n",
        "            [dfFiveDays[\"GallusID\"] == GallusID]\\\n",
        "            .nunique().sum() for GallusID in GallusIDUnique]) == 11)"
      ],
      "execution_count": 18,
      "outputs": [
        {
          "output_type": "execute_result",
          "data": {
            "text/plain": [
              "True"
            ]
          },
          "metadata": {
            "tags": []
          },
          "execution_count": 18
        }
      ]
    },
    {
      "cell_type": "markdown",
      "metadata": {
        "id": "s58H87VwgsLf",
        "colab_type": "text"
      },
      "source": [
        "The above result shows \"True\". It means that for all items that have similar \"GallusID\", those items are similar each other within any columns.\n",
        "This also means that in consecutive five days for the same Gallus ID, the \"EggsPerDay\" is either completely one or zero. This concludes that for specific \"GallusID\", there is a measurement of \"EggsPerDay\" doesn't represent correctly the Egg Laying Ratio. That is why the Egg Laying Ratio is either one or zero not in between one and zero.\n",
        "\n",
        "This can be ovecomed by gaining longer period measurement (the entire lifespan of the chicken is the ideal way to do this).\n",
        "\n",
        "Then we group the data by unique \"GallusID\", \"GallusEggColor\", \"GallusCombType\" and \"GallusPlumage\"."
      ]
    },
    {
      "cell_type": "code",
      "metadata": {
        "id": "A73IRuLOaLh2",
        "colab_type": "code",
        "outputId": "98b8d1a9-9640-425e-fedb-b2f825419b8d",
        "colab": {
          "base_uri": "https://localhost:8080/",
          "height": 424
        }
      },
      "source": [
        "chickenData = dfFiveDays.drop([\"Day\"], axis=1)\\\n",
        "  .groupby([\"GallusID\", \"GallusBreed\", \"GallusEggColor\", \"GallusCombType\", \n",
        "            \"GallusPlumage\"], as_index=False).agg({\n",
        "              \"EggsPerDay\": \"sum\",\n",
        "              \"Age\": lambda x: x.head(1),\n",
        "              \"GallusWeight\": lambda x: x.head(1),\n",
        "              \"GallusEggWeight\": lambda x: x.head(1),\n",
        "              \"AmountOfFeed\": lambda x: x.head(1),\n",
        "              \"SunLightExposure\": lambda x: x.head(1)\n",
        "            })\\\n",
        "  .sort_values(by=[\"GallusID\"])\n",
        "\n",
        "chickenData[\"EggLayingRatio\"] = chickenData[\"EggsPerDay\"] / 5.  # we have simplify only take 5 consecutive measurement as we have explained before.\n",
        "chickenData = chickenData.drop([\"EggsPerDay\"], axis=1)\n",
        "chickenData"
      ],
      "execution_count": 19,
      "outputs": [
        {
          "output_type": "execute_result",
          "data": {
            "text/html": [
              "<div>\n",
              "<style scoped>\n",
              "    .dataframe tbody tr th:only-of-type {\n",
              "        vertical-align: middle;\n",
              "    }\n",
              "\n",
              "    .dataframe tbody tr th {\n",
              "        vertical-align: top;\n",
              "    }\n",
              "\n",
              "    .dataframe thead th {\n",
              "        text-align: right;\n",
              "    }\n",
              "</style>\n",
              "<table border=\"1\" class=\"dataframe\">\n",
              "  <thead>\n",
              "    <tr style=\"text-align: right;\">\n",
              "      <th></th>\n",
              "      <th>GallusID</th>\n",
              "      <th>GallusBreed</th>\n",
              "      <th>GallusEggColor</th>\n",
              "      <th>GallusCombType</th>\n",
              "      <th>GallusPlumage</th>\n",
              "      <th>Age</th>\n",
              "      <th>GallusWeight</th>\n",
              "      <th>GallusEggWeight</th>\n",
              "      <th>AmountOfFeed</th>\n",
              "      <th>SunLightExposure</th>\n",
              "      <th>EggLayingRatio</th>\n",
              "    </tr>\n",
              "  </thead>\n",
              "  <tbody>\n",
              "    <tr>\n",
              "      <th>0</th>\n",
              "      <td>Ameraucana1</td>\n",
              "      <td>Ameraucana</td>\n",
              "      <td>Light Blue</td>\n",
              "      <td>Pea</td>\n",
              "      <td>Black</td>\n",
              "      <td>514</td>\n",
              "      <td>1740</td>\n",
              "      <td>47.12</td>\n",
              "      <td>114</td>\n",
              "      <td>6</td>\n",
              "      <td>1.0</td>\n",
              "    </tr>\n",
              "    <tr>\n",
              "      <th>1</th>\n",
              "      <td>Ameraucana10</td>\n",
              "      <td>Ameraucana</td>\n",
              "      <td>Light Blue</td>\n",
              "      <td>Pea</td>\n",
              "      <td>Buff</td>\n",
              "      <td>901</td>\n",
              "      <td>2100</td>\n",
              "      <td>52.24</td>\n",
              "      <td>109</td>\n",
              "      <td>7</td>\n",
              "      <td>1.0</td>\n",
              "    </tr>\n",
              "    <tr>\n",
              "      <th>2</th>\n",
              "      <td>Ameraucana11</td>\n",
              "      <td>Ameraucana</td>\n",
              "      <td>Bluish-Green</td>\n",
              "      <td>Pea</td>\n",
              "      <td>Blue Wheaten</td>\n",
              "      <td>384</td>\n",
              "      <td>1800</td>\n",
              "      <td>53.10</td>\n",
              "      <td>110</td>\n",
              "      <td>7</td>\n",
              "      <td>1.0</td>\n",
              "    </tr>\n",
              "    <tr>\n",
              "      <th>3</th>\n",
              "      <td>Ameraucana2</td>\n",
              "      <td>Ameraucana</td>\n",
              "      <td>Bluish-Green</td>\n",
              "      <td>Pea</td>\n",
              "      <td>Blue Wheaten</td>\n",
              "      <td>727</td>\n",
              "      <td>2140</td>\n",
              "      <td>44.82</td>\n",
              "      <td>117</td>\n",
              "      <td>11</td>\n",
              "      <td>1.0</td>\n",
              "    </tr>\n",
              "    <tr>\n",
              "      <th>4</th>\n",
              "      <td>Ameraucana3</td>\n",
              "      <td>Ameraucana</td>\n",
              "      <td>Bluish-Green</td>\n",
              "      <td>Pea</td>\n",
              "      <td>White</td>\n",
              "      <td>208</td>\n",
              "      <td>2080</td>\n",
              "      <td>49.51</td>\n",
              "      <td>113</td>\n",
              "      <td>11</td>\n",
              "      <td>1.0</td>\n",
              "    </tr>\n",
              "    <tr>\n",
              "      <th>...</th>\n",
              "      <td>...</td>\n",
              "      <td>...</td>\n",
              "      <td>...</td>\n",
              "      <td>...</td>\n",
              "      <td>...</td>\n",
              "      <td>...</td>\n",
              "      <td>...</td>\n",
              "      <td>...</td>\n",
              "      <td>...</td>\n",
              "      <td>...</td>\n",
              "      <td>...</td>\n",
              "    </tr>\n",
              "    <tr>\n",
              "      <th>185</th>\n",
              "      <td>Marans95</td>\n",
              "      <td>Marans</td>\n",
              "      <td>Brown</td>\n",
              "      <td>Single</td>\n",
              "      <td>Blue</td>\n",
              "      <td>591</td>\n",
              "      <td>2980</td>\n",
              "      <td>34.30</td>\n",
              "      <td>116</td>\n",
              "      <td>7</td>\n",
              "      <td>1.0</td>\n",
              "    </tr>\n",
              "    <tr>\n",
              "      <th>186</th>\n",
              "      <td>Marans96</td>\n",
              "      <td>Marans</td>\n",
              "      <td>Brown</td>\n",
              "      <td>Single</td>\n",
              "      <td>Splash</td>\n",
              "      <td>589</td>\n",
              "      <td>1890</td>\n",
              "      <td>37.90</td>\n",
              "      <td>115</td>\n",
              "      <td>8</td>\n",
              "      <td>1.0</td>\n",
              "    </tr>\n",
              "    <tr>\n",
              "      <th>187</th>\n",
              "      <td>Marans97</td>\n",
              "      <td>Marans</td>\n",
              "      <td>Brown</td>\n",
              "      <td>Single</td>\n",
              "      <td>Blue Copper</td>\n",
              "      <td>72</td>\n",
              "      <td>2040</td>\n",
              "      <td>46.32</td>\n",
              "      <td>110</td>\n",
              "      <td>7</td>\n",
              "      <td>1.0</td>\n",
              "    </tr>\n",
              "    <tr>\n",
              "      <th>188</th>\n",
              "      <td>Marans98</td>\n",
              "      <td>Marans</td>\n",
              "      <td>Brown</td>\n",
              "      <td>Single</td>\n",
              "      <td>Blue Copper</td>\n",
              "      <td>393</td>\n",
              "      <td>1940</td>\n",
              "      <td>43.21</td>\n",
              "      <td>107</td>\n",
              "      <td>10</td>\n",
              "      <td>1.0</td>\n",
              "    </tr>\n",
              "    <tr>\n",
              "      <th>189</th>\n",
              "      <td>Marans99</td>\n",
              "      <td>Marans</td>\n",
              "      <td>Brown</td>\n",
              "      <td>Single</td>\n",
              "      <td>Splash</td>\n",
              "      <td>94</td>\n",
              "      <td>2110</td>\n",
              "      <td>34.58</td>\n",
              "      <td>113</td>\n",
              "      <td>9</td>\n",
              "      <td>1.0</td>\n",
              "    </tr>\n",
              "  </tbody>\n",
              "</table>\n",
              "<p>190 rows × 11 columns</p>\n",
              "</div>"
            ],
            "text/plain": [
              "         GallusID GallusBreed  ... SunLightExposure EggLayingRatio\n",
              "0     Ameraucana1  Ameraucana  ...                6            1.0\n",
              "1    Ameraucana10  Ameraucana  ...                7            1.0\n",
              "2    Ameraucana11  Ameraucana  ...                7            1.0\n",
              "3     Ameraucana2  Ameraucana  ...               11            1.0\n",
              "4     Ameraucana3  Ameraucana  ...               11            1.0\n",
              "..            ...         ...  ...              ...            ...\n",
              "185      Marans95      Marans  ...                7            1.0\n",
              "186      Marans96      Marans  ...                8            1.0\n",
              "187      Marans97      Marans  ...                7            1.0\n",
              "188      Marans98      Marans  ...               10            1.0\n",
              "189      Marans99      Marans  ...                9            1.0\n",
              "\n",
              "[190 rows x 11 columns]"
            ]
          },
          "metadata": {
            "tags": []
          },
          "execution_count": 19
        }
      ]
    },
    {
      "cell_type": "markdown",
      "metadata": {
        "id": "-pu-xTiO9ABf",
        "colab_type": "text"
      },
      "source": [
        "Splitting the breeding between Marans and Ameraucana."
      ]
    },
    {
      "cell_type": "code",
      "metadata": {
        "id": "u3QLHFXP9F1X",
        "colab_type": "code",
        "colab": {}
      },
      "source": [
        "chickenMarans = chickenData[chickenData[\"GallusBreed\"] == \"Marans\"].sort_values(by=[\"Age\"])\n",
        "chickenAmeraucana = chickenData[chickenData[\"GallusBreed\"] == \"Ameraucana\"].sort_values(by=[\"Age\"])"
      ],
      "execution_count": 0,
      "outputs": []
    },
    {
      "cell_type": "code",
      "metadata": {
        "id": "iIuC2IV3eZKF",
        "colab_type": "code",
        "outputId": "92ee3e68-e33a-41f6-af79-f0f16d782c0a",
        "colab": {
          "base_uri": "https://localhost:8080/",
          "height": 404
        }
      },
      "source": [
        "fig, (ax1, ax2) = plt.subplots(nrows=1, ncols=2, figsize=(20, 6))\n",
        "x, y = chickenMarans.groupby([\"Age\"], as_index=False).agg({\n",
        "    \"SunLightExposure\": lambda x: x.head(1)\n",
        "    }).to_numpy().transpose()\n",
        "ax1.plot(x[:15], y[:15])      # you can set this in appropriate way as you need\n",
        "ax1.set_xlabel(\"Age\")\n",
        "ax1.set_ylabel(\"Sun Light Exposure\")\n",
        "ax1.set_title(\"Gallus Marans (first 15 items)\")\n",
        "\n",
        "x, y = chickenAmeraucana.groupby([\"Age\"], as_index=False).agg({\n",
        "    \"SunLightExposure\": lambda x: x.head(1)\n",
        "    }).to_numpy().transpose()\n",
        "ax2.plot(x, y)\n",
        "ax2.set_xlabel(\"Age\")\n",
        "ax2.set_ylabel(\"Sun Light Exposure\")\n",
        "ax2.set_title(\"Gallus Ameraucana\")\n",
        "\n",
        "plt.show(fig)"
      ],
      "execution_count": 21,
      "outputs": [
        {
          "output_type": "display_data",
          "data": {
            "image/png": "[encoded data removed]",
            "text/plain": [
              "<Figure size 1440x432 with 2 Axes>"
            ]
          },
          "metadata": {
            "tags": [],
            "needs_background": "light"
          }
        }
      ]
    },
    {
      "cell_type": "markdown",
      "metadata": {
        "id": "ncrYMLsdJLEk",
        "colab_type": "text"
      },
      "source": [
        "If we look the both range of \"Age\" above, it seem some kind of impossibility in the age of the chicken. The average of chicken lifespan is from 5 - 10 years (260 - 521 weeks). See this [link](https://web.archive.org/web/20101128085141/http://ruleworks.co.uk/cgi-bin/TUfaq.exe?Guide=Poultry&Category=Poultry%20-%20General#q6). Even the oldest chicken (Old English Game breeding) in the world only has 16 years (834 weeks) lifespan. See this [link](https://www.tuscaloosanews.com/article/DA/20060806/News/606120381/TL).\n",
        "\n",
        "From US FAO (see this [link](http://www.fao.org/3/y4628e/y4628e03.htm)), there is an optimum way how to deal with the sunlight exposure for general chicken breeding.\n",
        "Most of the data doesn't have that pattern (change the age range to the appropriate range to see that sun light exposure pattern for reasonable range of ages).\n",
        "\n",
        "But we can argue that different breeding has different pattern how to exposure chicken with the sunlight. This will be different discussion."
      ]
    },
    {
      "cell_type": "code",
      "metadata": {
        "id": "2mOHpJMaQwxF",
        "colab_type": "code",
        "outputId": "026ff8a4-5eb4-4eeb-a970-f08902063e74",
        "colab": {
          "base_uri": "https://localhost:8080/",
          "height": 53
        }
      },
      "source": [
        "# To check that the grouping procedure is correct ------\n",
        "print(len(chickenMarans))\n",
        "print(len(chickenAmeraucana))\n",
        "# -----------------------------------------------------"
      ],
      "execution_count": 22,
      "outputs": [
        {
          "output_type": "stream",
          "text": [
            "179\n",
            "11\n"
          ],
          "name": "stdout"
        }
      ]
    },
    {
      "cell_type": "code",
      "metadata": {
        "id": "MPKLOO0BEZrs",
        "colab_type": "code",
        "colab": {}
      },
      "source": [
        "chickenMaransNumer = chickenMarans.select_dtypes(include=[\"float64\", \"int64\"])\n",
        "chickenAmeraucanaNumer = chickenAmeraucana.select_dtypes(include=[\"float64\", \"int64\"])"
      ],
      "execution_count": 0,
      "outputs": []
    },
    {
      "cell_type": "markdown",
      "metadata": {
        "id": "WaqkhCj0OykF",
        "colab_type": "text"
      },
      "source": [
        "# Explanatory Data Analysis"
      ]
    },
    {
      "cell_type": "code",
      "metadata": {
        "id": "V2I84sMH2kHN",
        "colab_type": "code",
        "outputId": "12282d58-587c-42cd-b08b-6ba2cb58f0a2",
        "colab": {
          "base_uri": "https://localhost:8080/",
          "height": 711
        }
      },
      "source": [
        "g = sns.pairplot(chickenMaransNumer, height=1.5, corner=True)\n",
        "g.fig.suptitle(\"Gallus Marans\", y=1.05); "
      ],
      "execution_count": 24,
      "outputs": [
        {
          "output_type": "display_data",
          "data": {
            "image/png": "[encoded data removed]",
            "text/plain": [
              "<Figure size 648x648 with 27 Axes>"
            ]
          },
          "metadata": {
            "tags": [],
            "needs_background": "light"
          }
        }
      ]
    },
    {
      "cell_type": "code",
      "metadata": {
        "id": "J8mfiAQ0Laqx",
        "colab_type": "code",
        "outputId": "023878e2-fa49-422c-da6f-04eb154f58a1",
        "colab": {
          "base_uri": "https://localhost:8080/",
          "height": 711
        }
      },
      "source": [
        "g = sns.pairplot(chickenAmeraucanaNumer, height=1.5, corner=True)\n",
        "g.fig.suptitle(\"Gallus Ameraucana\", y=1.05); "
      ],
      "execution_count": 25,
      "outputs": [
        {
          "output_type": "display_data",
          "data": {
            "image/png": "[encoded data removed]",
            "text/plain": [
              "<Figure size 648x648 with 27 Axes>"
            ]
          },
          "metadata": {
            "tags": [],
            "needs_background": "light"
          }
        }
      ]
    },
    {
      "cell_type": "code",
      "metadata": {
        "id": "i0CmXnsc26yG",
        "colab_type": "code",
        "outputId": "43c05281-9a3f-4cd1-8c94-631938258ca0",
        "colab": {
          "base_uri": "https://localhost:8080/",
          "height": 627
        }
      },
      "source": [
        "plt.figure(figsize=(10, 10))\n",
        "sns.heatmap(chickenMaransNumer.corr(), annot=True, square=True)\n",
        "plt.title(\"Gallus Marans\");"
      ],
      "execution_count": 26,
      "outputs": [
        {
          "output_type": "display_data",
          "data": {
            "image/png": "[encoded data removed]",
            "text/plain": [
              "<Figure size 720x720 with 2 Axes>"
            ]
          },
          "metadata": {
            "tags": [],
            "needs_background": "light"
          }
        }
      ]
    },
    {
      "cell_type": "code",
      "metadata": {
        "id": "4Yj-UGW_4I2V",
        "colab_type": "code",
        "outputId": "1125d9bc-591f-4eef-bc2b-45fc411af158",
        "colab": {
          "base_uri": "https://localhost:8080/",
          "height": 144
        }
      },
      "source": [
        "chickenMaransNumer.corr()['EggLayingRatio'].sort_values()"
      ],
      "execution_count": 27,
      "outputs": [
        {
          "output_type": "execute_result",
          "data": {
            "text/plain": [
              "Age                -0.319618\n",
              "AmountOfFeed       -0.099874\n",
              "GallusEggWeight    -0.064371\n",
              "SunLightExposure    0.072772\n",
              "GallusWeight        0.112798\n",
              "EggLayingRatio      1.000000\n",
              "Name: EggLayingRatio, dtype: float64"
            ]
          },
          "metadata": {
            "tags": []
          },
          "execution_count": 27
        }
      ]
    },
    {
      "cell_type": "code",
      "metadata": {
        "id": "pcZvHE3pPAdi",
        "colab_type": "code",
        "outputId": "c295b23e-158e-453c-ff44-9352a6f65d8a",
        "colab": {
          "base_uri": "https://localhost:8080/",
          "height": 627
        }
      },
      "source": [
        "plt.figure(figsize=(10, 10))\n",
        "sns.heatmap(chickenAmeraucanaNumer.corr(), annot=True, square=True)\n",
        "plt.title(\"Gallus Ameraucana\");"
      ],
      "execution_count": 28,
      "outputs": [
        {
          "output_type": "display_data",
          "data": {
            "image/png": "[encoded data removed]",
            "text/plain": [
              "<Figure size 720x720 with 2 Axes>"
            ]
          },
          "metadata": {
            "tags": [],
            "needs_background": "light"
          }
        }
      ]
    },
    {
      "cell_type": "code",
      "metadata": {
        "id": "JLpSOANtPMUd",
        "colab_type": "code",
        "outputId": "87b96723-4321-4ae5-de20-deddf47e1a70",
        "colab": {
          "base_uri": "https://localhost:8080/",
          "height": 144
        }
      },
      "source": [
        "chickenAmeraucanaNumer.corr()['EggLayingRatio'].sort_values()"
      ],
      "execution_count": 29,
      "outputs": [
        {
          "output_type": "execute_result",
          "data": {
            "text/plain": [
              "Age                NaN\n",
              "GallusWeight       NaN\n",
              "GallusEggWeight    NaN\n",
              "AmountOfFeed       NaN\n",
              "SunLightExposure   NaN\n",
              "EggLayingRatio     NaN\n",
              "Name: EggLayingRatio, dtype: float64"
            ]
          },
          "metadata": {
            "tags": []
          },
          "execution_count": 29
        }
      ]
    },
    {
      "cell_type": "markdown",
      "metadata": {
        "id": "zWYduB642ilq",
        "colab_type": "text"
      },
      "source": [
        "We cannot draw any conclusion related to understand egg laying ratio for Gallus Ameraucana as we know all the correlation to \"EggLayingRatio\" is NaN. We need more data and to measure correctly what data that we need.\n",
        "\n",
        "An interesting quick fact check in this data is the correlation between \"AmountOfFeed\" and \"GallusWeight\". This show intuitively correct that the more amount of feed that chicken have received, the more weight they gain.\n",
        "If we look up to this [link](http://www.fao.org/3/y4628e/y4628e03.htm), we can know that there is an optimum weight for the chicken to maximize egg production. We can conclude that, when the chickens gain more weight, it will be hard for them to produce an egg. This fortells us that the amount of feed should be reduce when the chicken gain more weight.\n",
        "\n",
        "In other hand, we can extract a few insights for Gallus Marans.\n",
        "\n",
        "Several key takeaways in Gallus Marans dataset:\n",
        "1. The older the chicken is, the lesser egg wiil be produced. As we can see in the general curve of egg laying ratio (Fig. 1), most of the \"Age\" data distributed around the downward phase of the curve (most of the data reside for the older ages). This exactly descirbes the correlation that we have computed.\n",
        "\n",
        "2. Most our data reside in the older ages than the average ages of chicken. This will contribute a huge amount of irregularity to the correlation between four features (\"AmountOfFee\", \"GallusWeight\", \"GallusEggWeight\", \"SunLightExposure\") and egg laying ratio. All the four features have correlation to egg laying ratio closely enough to zero (abs(0.1)). These correlations show us that the features are almost random to the variation of \"EggLayinggRatio\" or doesn't follow linear relation."
      ]
    },
    {
      "cell_type": "markdown",
      "metadata": {
        "id": "s1hIVIhzeEMk",
        "colab_type": "text"
      },
      "source": [
        "In the below is the figure of general curve for flock production (in percentage) depends on the age of the flock of chickens. This flock production is somehow not so different term to egg laying ratio. (see this [link](http://www.fao.org/3/y4628e/y4628e03.htm) for the resouces)."
      ]
    },
    {
      "cell_type": "markdown",
      "metadata": {
        "id": "G5HZngsagr7r",
        "colab_type": "text"
      },
      "source": [
        "**Figure 1**\n",
        "\n",
        "![alt text](http://www.fao.org/3/y4628e/y4628e09.gif)"
      ]
    },
    {
      "cell_type": "markdown",
      "metadata": {
        "id": "yshzacx2-GHD",
        "colab_type": "text"
      },
      "source": [
        "For final words, we need more **reliable** and **correctly measured** data.\n",
        "In the next discussion, we try to find verified data from Poultry science journal and analysis it."
      ]
    },
    {
      "cell_type": "code",
      "metadata": {
        "id": "4w8kthQR-KNN",
        "colab_type": "code",
        "colab": {}
      },
      "source": [
        ""
      ],
      "execution_count": 0,
      "outputs": []
    }
  ]
}